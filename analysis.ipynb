{
 "cells": [
  {
   "cell_type": "markdown",
   "id": "1d25f796",
   "metadata": {},
   "source": [
    "# How to (not) catch a cheater "
   ]
  },
  {
   "cell_type": "markdown",
   "id": "31995ff6",
   "metadata": {},
   "source": [
    "Statistics are dangerous. Moreover, statistics are dangerous when treated as truths, by people who don't understand basic concepts. I will keep it simple to prevent untrue confessions of the data, and more importantly, keep the professional rumbling out of the way - everyone should understand this simple analysis.\n",
    "\n",
    "I believe that one should be cautious when accusing another person of something, so even though it's a little scary to get in, I have to present my point of view - it's my obligation as a human being that has the tools to do so."
   ]
  },
  {
   "cell_type": "markdown",
   "id": "f522096c",
   "metadata": {},
   "source": [
    "## Claim 1:\n",
    "### Hans Niemann plays \"100% correlated engine moves\".\n",
    "While \"100% correlated engine moves\" is not clearly defined (by accusers), to my understanding, the same check was applied to two other players, Magnus Carlsen (world champion), and Vincent Keymer.\n",
    "Simply counting how many games each player played is a bad methodology, as the datasets vary in size. We will instead define a normalized form of this concept, 100% per 50 games."
   ]
  },
  {
   "cell_type": "code",
   "execution_count": 79,
   "id": "cdae65bd",
   "metadata": {},
   "outputs": [],
   "source": [
    "import pandas as pd"
   ]
  },
  {
   "cell_type": "code",
   "execution_count": 80,
   "id": "af3ca555",
   "metadata": {},
   "outputs": [],
   "source": [
    "def fix_dataset(df):\n",
    "    df = df[pd.to_numeric(df['Opponent Rating'], errors='coerce').notnull()]\n",
    "    df = df[pd.to_numeric(df['Engine Correlation'], errors='coerce').notnull()]\n",
    "    df['Opponent Rating'] = pd.to_numeric(df['Opponent Rating'])\n",
    "    df['Engine Correlation'] = pd.to_numeric(df['Engine Correlation'])\n",
    "    \n",
    "    return df"
   ]
  },
  {
   "cell_type": "code",
   "execution_count": 81,
   "id": "13fae288",
   "metadata": {},
   "outputs": [],
   "source": [
    "df_hans = fix_dataset(pd.read_csv('dataset_hans.csv'))"
   ]
  },
  {
   "cell_type": "code",
   "execution_count": 82,
   "id": "f6f6ea0a",
   "metadata": {},
   "outputs": [],
   "source": [
    "df_keymer = fix_dataset(pd.read_csv('dataset_keymer.csv'))"
   ]
  },
  {
   "cell_type": "code",
   "execution_count": 83,
   "id": "66012441",
   "metadata": {},
   "outputs": [],
   "source": [
    "df_magnus = fix_dataset(pd.read_csv('dataset_magnus.csv'))"
   ]
  },
  {
   "cell_type": "code",
   "execution_count": 84,
   "id": "64daee67",
   "metadata": {},
   "outputs": [
    {
     "data": {
      "text/plain": [
       "(389, 109, 95)"
      ]
     },
     "execution_count": 84,
     "metadata": {},
     "output_type": "execute_result"
    }
   ],
   "source": [
    "len(df_hans), len(df_keymer), len(df_magnus)"
   ]
  },
  {
   "cell_type": "code",
   "execution_count": 103,
   "id": "db93beaa",
   "metadata": {},
   "outputs": [
    {
     "data": {
      "text/plain": [
       "Index(['Engine Correlation', 'Opponent Rating', ' Title', 'Unnamed: 3',\n",
       "       'Note: * = rating unknown, minus 400 of Hans'],\n",
       "      dtype='object')"
      ]
     },
     "execution_count": 103,
     "metadata": {},
     "output_type": "execute_result"
    }
   ],
   "source": [
    "df_hans.columns"
   ]
  },
  {
   "cell_type": "code",
   "execution_count": 105,
   "id": "b097613c",
   "metadata": {},
   "outputs": [],
   "source": [
    "dfs_hans_vs_gm = df_hans[df_hans[' Title'] == 'Grandmaster']"
   ]
  },
  {
   "cell_type": "code",
   "execution_count": 85,
   "id": "60bbaa70",
   "metadata": {},
   "outputs": [
    {
     "data": {
      "text/plain": [
       "1.2853470437017993"
      ]
     },
     "execution_count": 85,
     "metadata": {},
     "output_type": "execute_result"
    }
   ],
   "source": [
    "len(df_hans[df_hans['Engine Correlation'] == 100])*(50/len(df_hans))"
   ]
  },
  {
   "cell_type": "markdown",
   "id": "1e608fa8",
   "metadata": {},
   "source": [
    "But vs GMs Hans performs worse."
   ]
  },
  {
   "cell_type": "code",
   "execution_count": 107,
   "id": "e8b406b1",
   "metadata": {},
   "outputs": [
    {
     "data": {
      "text/plain": [
       "0.819672131147541"
      ]
     },
     "execution_count": 107,
     "metadata": {},
     "output_type": "execute_result"
    }
   ],
   "source": [
    "len(dfs_hans_vs_gm[dfs_hans_vs_gm['Engine Correlation'] == 100])*(50/len(dfs_hans_vs_gm))"
   ]
  },
  {
   "cell_type": "code",
   "execution_count": 86,
   "id": "0ce230a9",
   "metadata": {},
   "outputs": [
    {
     "data": {
      "text/plain": [
       "0.9174311926605505"
      ]
     },
     "execution_count": 86,
     "metadata": {},
     "output_type": "execute_result"
    }
   ],
   "source": [
    "len(df_keymer[df_keymer['Engine Correlation'] == 100])*(50/len(df_keymer))"
   ]
  },
  {
   "cell_type": "code",
   "execution_count": 87,
   "id": "2eabcfc0",
   "metadata": {},
   "outputs": [
    {
     "data": {
      "text/plain": [
       "1.0526315789473684"
      ]
     },
     "execution_count": 87,
     "metadata": {},
     "output_type": "execute_result"
    }
   ],
   "source": [
    "len(df_magnus[df_magnus['Engine Correlation'] == 100])*(50/len(df_magnus))"
   ]
  },
  {
   "cell_type": "markdown",
   "id": "2989f3b2",
   "metadata": {},
   "source": [
    "The results show that Hans plays ~1.3 games per 50 which are \"100% games\", while Keymer and Magnus play such games a little less often, ~0.92 and ~1.05 respectively.\n",
    "\n",
    "Ideally, we would perform a statistical test to see how significant the difference is between ~1.3 games per 50 to the expected value, however, we don't know the expected value since the dataset is rather small.\n",
    "The question of whether it's significant is left as an exercise to the reader (hint if Magnus would play 1 more 100% game, what would be his \"100% games\" per 50 rate?"
   ]
  },
  {
   "cell_type": "markdown",
   "id": "b5f1f44a",
   "metadata": {},
   "source": [
    "## But who has a higher engine correlation?"
   ]
  },
  {
   "cell_type": "code",
   "execution_count": 90,
   "id": "f517cd8d",
   "metadata": {},
   "outputs": [],
   "source": [
    "from scipy.stats import ttest_ind"
   ]
  },
  {
   "cell_type": "code",
   "execution_count": 91,
   "id": "05c76a16",
   "metadata": {},
   "outputs": [
    {
     "data": {
      "text/plain": [
       "68.74736842105263"
      ]
     },
     "execution_count": 91,
     "metadata": {},
     "output_type": "execute_result"
    }
   ],
   "source": [
    "df_magnus['Engine Correlation'].mean()"
   ]
  },
  {
   "cell_type": "code",
   "execution_count": 92,
   "id": "a8f3d06d",
   "metadata": {},
   "outputs": [
    {
     "data": {
      "text/plain": [
       "65.33933161953728"
      ]
     },
     "execution_count": 92,
     "metadata": {},
     "output_type": "execute_result"
    }
   ],
   "source": [
    "df_hans['Engine Correlation'].mean()"
   ]
  },
  {
   "cell_type": "code",
   "execution_count": 93,
   "id": "5111fc6e",
   "metadata": {},
   "outputs": [
    {
     "data": {
      "text/plain": [
       "62.22935779816514"
      ]
     },
     "execution_count": 93,
     "metadata": {},
     "output_type": "execute_result"
    }
   ],
   "source": [
    "df_keymer['Engine Correlation'].mean()"
   ]
  },
  {
   "cell_type": "code",
   "execution_count": 94,
   "id": "6a876072",
   "metadata": {},
   "outputs": [
    {
     "data": {
      "text/plain": [
       "Ttest_indResult(statistic=-1.8919444262255198, pvalue=0.059097494436967046)"
      ]
     },
     "execution_count": 94,
     "metadata": {},
     "output_type": "execute_result"
    }
   ],
   "source": [
    "ttest_ind(df_hans['Engine Correlation'], df_magnus['Engine Correlation'])"
   ]
  },
  {
   "cell_type": "markdown",
   "id": "e43fe727",
   "metadata": {},
   "source": [
    "The answer is Magnus -\n",
    "It's not a surprise nor mean he is a cheater, he is the best chess player in the world."
   ]
  },
  {
   "cell_type": "code",
   "execution_count": null,
   "id": "ebf6c419",
   "metadata": {},
   "outputs": [],
   "source": []
  },
  {
   "cell_type": "code",
   "execution_count": null,
   "id": "0febed54",
   "metadata": {},
   "outputs": [],
   "source": []
  },
  {
   "cell_type": "code",
   "execution_count": null,
   "id": "e854d875",
   "metadata": {},
   "outputs": [],
   "source": []
  },
  {
   "cell_type": "code",
   "execution_count": null,
   "id": "78111067",
   "metadata": {},
   "outputs": [],
   "source": []
  },
  {
   "cell_type": "code",
   "execution_count": 53,
   "id": "2b7e94dc",
   "metadata": {},
   "outputs": [
    {
     "data": {
      "text/plain": [
       "2413.8"
      ]
     },
     "execution_count": 53,
     "metadata": {},
     "output_type": "execute_result"
    }
   ],
   "source": [
    "df_hans[df_hans['Engine Correlation'] == 100]['Opponent Rating'].mean()"
   ]
  },
  {
   "cell_type": "code",
   "execution_count": 55,
   "id": "ed0bfdce",
   "metadata": {},
   "outputs": [
    {
     "data": {
      "text/plain": [
       "2463.8766066838048"
      ]
     },
     "execution_count": 55,
     "metadata": {},
     "output_type": "execute_result"
    }
   ],
   "source": [
    "df_hans['Opponent Rating'].mean()"
   ]
  },
  {
   "cell_type": "code",
   "execution_count": 56,
   "id": "ddcf0d0c",
   "metadata": {},
   "outputs": [
    {
     "data": {
      "text/plain": [
       "2711.705263157895"
      ]
     },
     "execution_count": 56,
     "metadata": {},
     "output_type": "execute_result"
    }
   ],
   "source": [
    "df_magnus['Opponent Rating'].mean()"
   ]
  },
  {
   "cell_type": "code",
   "execution_count": 57,
   "id": "7bfcba19",
   "metadata": {},
   "outputs": [
    {
     "data": {
      "text/plain": [
       "2736.0"
      ]
     },
     "execution_count": 57,
     "metadata": {},
     "output_type": "execute_result"
    }
   ],
   "source": [
    "df_magnus[df_magnus['Engine Correlation'] == 100]['Opponent Rating'].mean()"
   ]
  },
  {
   "cell_type": "code",
   "execution_count": 58,
   "id": "43c7afc8",
   "metadata": {},
   "outputs": [
    {
     "data": {
      "text/plain": [
       "2618.0"
      ]
     },
     "execution_count": 58,
     "metadata": {},
     "output_type": "execute_result"
    }
   ],
   "source": [
    "df_keymer[df_keymer['Engine Correlation'] == 100]['Opponent Rating'].mean()"
   ]
  },
  {
   "cell_type": "code",
   "execution_count": 59,
   "id": "9df1d5be",
   "metadata": {},
   "outputs": [
    {
     "data": {
      "text/plain": [
       "2624.3119266055046"
      ]
     },
     "execution_count": 59,
     "metadata": {},
     "output_type": "execute_result"
    }
   ],
   "source": [
    "df_keymer['Opponent Rating'].mean()"
   ]
  },
  {
   "cell_type": "code",
   "execution_count": null,
   "id": "940af08e",
   "metadata": {},
   "outputs": [],
   "source": []
  }
 ],
 "metadata": {
  "kernelspec": {
   "display_name": "Python [conda env:data-science]",
   "language": "python",
   "name": "conda-env-data-science-py"
  },
  "language_info": {
   "codemirror_mode": {
    "name": "ipython",
    "version": 3
   },
   "file_extension": ".py",
   "mimetype": "text/x-python",
   "name": "python",
   "nbconvert_exporter": "python",
   "pygments_lexer": "ipython3",
   "version": "3.8.5"
  }
 },
 "nbformat": 4,
 "nbformat_minor": 5
}
