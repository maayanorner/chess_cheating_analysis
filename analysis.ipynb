{
 "cells": [
  {
   "cell_type": "markdown",
   "id": "168f44c1",
   "metadata": {},
   "source": [
    "# How to (not) catch a cheater "
   ]
  },
  {
   "cell_type": "markdown",
   "id": "37f375b1",
   "metadata": {},
   "source": [
    "Statistics are dangerous. Moreover, statistics are dangerous when treated as truths, by people who don't understand basic concepts. I will keep it simple to prevent untrue confessions of the data, and more importantly, keep the professional rumbling out of the way - everyone should understand this simple analysis.\n",
    "\n",
    "I believe that one should be cautious when accusing another person of something, so even though it's a little scary to get in, I have to present my point of view - it's my obligation as a human being that has the tools to do so."
   ]
  },
  {
   "cell_type": "markdown",
   "id": "16de23f4",
   "metadata": {},
   "source": [
    "## Claim 1:\n",
    "### Hans Niemann plays \"100% correlated engine moves\".\n",
    "While \"100% correlated engine moves\" is not clearly defined (by accusers), to my understanding, the same check was applied to two other players, Magnus Carlsen (world champion), and Vincent Keymer.\n",
    "Simply counting how many games each player played is a bad methodology, as the datasets vary in size. We will instead define a normalized form of this concept, 100% per 50 games."
   ]
  },
  {
   "cell_type": "code",
   "execution_count": 79,
   "id": "91addf90",
   "metadata": {},
   "outputs": [],
   "source": [
    "import pandas as pd"
   ]
  },
  {
   "cell_type": "code",
   "execution_count": 80,
   "id": "7194f742",
   "metadata": {},
   "outputs": [],
   "source": [
    "def fix_dataset(df):\n",
    "    df = df[pd.to_numeric(df['Opponent Rating'], errors='coerce').notnull()]\n",
    "    df = df[pd.to_numeric(df['Engine Correlation'], errors='coerce').notnull()]\n",
    "    df['Opponent Rating'] = pd.to_numeric(df['Opponent Rating'])\n",
    "    df['Engine Correlation'] = pd.to_numeric(df['Engine Correlation'])\n",
    "    \n",
    "    return df"
   ]
  },
  {
   "cell_type": "code",
   "execution_count": 81,
   "id": "836af9ee",
   "metadata": {},
   "outputs": [],
   "source": [
    "df_hans = fix_dataset(pd.read_csv('dataset_hans.csv'))"
   ]
  },
  {
   "cell_type": "code",
   "execution_count": 82,
   "id": "718416e5",
   "metadata": {},
   "outputs": [],
   "source": [
    "df_keymer = fix_dataset(pd.read_csv('dataset_keymer.csv'))"
   ]
  },
  {
   "cell_type": "code",
   "execution_count": 83,
   "id": "9e8fe5c9",
   "metadata": {},
   "outputs": [],
   "source": [
    "df_magnus = fix_dataset(pd.read_csv('dataset_magnus.csv'))"
   ]
  },
  {
   "cell_type": "code",
   "execution_count": 84,
   "id": "f23c3be4",
   "metadata": {},
   "outputs": [
    {
     "data": {
      "text/plain": [
       "(389, 109, 95)"
      ]
     },
     "execution_count": 84,
     "metadata": {},
     "output_type": "execute_result"
    }
   ],
   "source": [
    "len(df_hans), len(df_keymer), len(df_magnus)"
   ]
  },
  {
   "cell_type": "code",
   "execution_count": 103,
   "id": "29bad3a9",
   "metadata": {},
   "outputs": [
    {
     "data": {
      "text/plain": [
       "Index(['Engine Correlation', 'Opponent Rating', ' Title', 'Unnamed: 3',\n",
       "       'Note: * = rating unknown, minus 400 of Hans'],\n",
       "      dtype='object')"
      ]
     },
     "execution_count": 103,
     "metadata": {},
     "output_type": "execute_result"
    }
   ],
   "source": [
    "df_hans.columns"
   ]
  },
  {
   "cell_type": "code",
   "execution_count": 105,
   "id": "c9e4ef70",
   "metadata": {},
   "outputs": [],
   "source": [
    "dfs_hans_vs_gm = df_hans[df_hans[' Title'] == 'Grandmaster']"
   ]
  },
  {
   "cell_type": "code",
   "execution_count": 85,
   "id": "9f35b8f7",
   "metadata": {},
   "outputs": [
    {
     "data": {
      "text/plain": [
       "1.2853470437017993"
      ]
     },
     "execution_count": 85,
     "metadata": {},
     "output_type": "execute_result"
    }
   ],
   "source": [
    "len(df_hans[df_hans['Engine Correlation'] == 100])*(50/len(df_hans))"
   ]
  },
  {
   "cell_type": "markdown",
   "id": "6447a36a",
   "metadata": {},
   "source": [
    "But vs GMs Hans performs worse."
   ]
  },
  {
   "cell_type": "code",
   "execution_count": 107,
   "id": "93aa5820",
   "metadata": {},
   "outputs": [
    {
     "data": {
      "text/plain": [
       "0.819672131147541"
      ]
     },
     "execution_count": 107,
     "metadata": {},
     "output_type": "execute_result"
    }
   ],
   "source": [
    "len(dfs_hans_vs_gm[dfs_hans_vs_gm['Engine Correlation'] == 100])*(50/len(dfs_hans_vs_gm))"
   ]
  },
  {
   "cell_type": "code",
   "execution_count": 86,
   "id": "ff1d97e0",
   "metadata": {},
   "outputs": [
    {
     "data": {
      "text/plain": [
       "0.9174311926605505"
      ]
     },
     "execution_count": 86,
     "metadata": {},
     "output_type": "execute_result"
    }
   ],
   "source": [
    "len(df_keymer[df_keymer['Engine Correlation'] == 100])*(50/len(df_keymer))"
   ]
  },
  {
   "cell_type": "code",
   "execution_count": 87,
   "id": "b05c23ec",
   "metadata": {},
   "outputs": [
    {
     "data": {
      "text/plain": [
       "1.0526315789473684"
      ]
     },
     "execution_count": 87,
     "metadata": {},
     "output_type": "execute_result"
    }
   ],
   "source": [
    "len(df_magnus[df_magnus['Engine Correlation'] == 100])*(50/len(df_magnus))"
   ]
  },
  {
   "cell_type": "markdown",
   "id": "34e696a0",
   "metadata": {},
   "source": [
    "The results show that Hans plays ~1.3 games per 50 which are \"100% games\", while Keymer and Magnus play such games a little less often, ~0.92 and ~1.05 respectively.\n",
    "\n",
    "Ideally, we would perform a statistical test to see how significant the difference is between ~1.3 games per 50 to the expected value, however, we don't know the expected value since the dataset is rather small.\n",
    "The question of whether it's significant is left as an exercise to the reader (hint if Magnus would play 1 more 100% game, what would be his \"100% games\" per 50 rate?"
   ]
  },
  {
   "cell_type": "markdown",
   "id": "05a42961",
   "metadata": {},
   "source": [
    "## But who has a higher engine correlation?"
   ]
  },
  {
   "cell_type": "code",
   "execution_count": 90,
   "id": "5cc82653",
   "metadata": {},
   "outputs": [],
   "source": [
    "from scipy.stats import ttest_ind"
   ]
  },
  {
   "cell_type": "code",
   "execution_count": 91,
   "id": "9f10b310",
   "metadata": {},
   "outputs": [
    {
     "data": {
      "text/plain": [
       "68.74736842105263"
      ]
     },
     "execution_count": 91,
     "metadata": {},
     "output_type": "execute_result"
    }
   ],
   "source": [
    "df_magnus['Engine Correlation'].mean()"
   ]
  },
  {
   "cell_type": "code",
   "execution_count": 109,
   "id": "fa82a038",
   "metadata": {},
   "outputs": [
    {
     "data": {
      "text/plain": [
       "168.4886898096305"
      ]
     },
     "execution_count": 109,
     "metadata": {},
     "output_type": "execute_result"
    }
   ],
   "source": [
    "df_magnus['Engine Correlation'].var()"
   ]
  },
  {
   "cell_type": "code",
   "execution_count": 114,
   "id": "8fc60688",
   "metadata": {},
   "outputs": [
    {
     "data": {
      "text/plain": [
       "12.980319326181098"
      ]
     },
     "execution_count": 114,
     "metadata": {},
     "output_type": "execute_result"
    }
   ],
   "source": [
    "df_magnus['Engine Correlation'].std()"
   ]
  },
  {
   "cell_type": "code",
   "execution_count": 92,
   "id": "6ed4b6e7",
   "metadata": {},
   "outputs": [
    {
     "data": {
      "text/plain": [
       "65.33933161953728"
      ]
     },
     "execution_count": 92,
     "metadata": {},
     "output_type": "execute_result"
    }
   ],
   "source": [
    "df_hans['Engine Correlation'].mean()"
   ]
  },
  {
   "cell_type": "code",
   "execution_count": 110,
   "id": "3e389607",
   "metadata": {},
   "outputs": [
    {
     "data": {
      "text/plain": [
       "266.9567222325286"
      ]
     },
     "execution_count": 110,
     "metadata": {},
     "output_type": "execute_result"
    }
   ],
   "source": [
    "df_hans['Engine Correlation'].var()"
   ]
  },
  {
   "cell_type": "code",
   "execution_count": 115,
   "id": "3636af9b",
   "metadata": {},
   "outputs": [
    {
     "data": {
      "text/plain": [
       "16.338810306522582"
      ]
     },
     "execution_count": 115,
     "metadata": {},
     "output_type": "execute_result"
    }
   ],
   "source": [
    "df_hans['Engine Correlation'].std()"
   ]
  },
  {
   "cell_type": "code",
   "execution_count": 93,
   "id": "4bae807a",
   "metadata": {},
   "outputs": [
    {
     "data": {
      "text/plain": [
       "62.22935779816514"
      ]
     },
     "execution_count": 93,
     "metadata": {},
     "output_type": "execute_result"
    }
   ],
   "source": [
    "df_keymer['Engine Correlation'].mean()"
   ]
  },
  {
   "cell_type": "code",
   "execution_count": 111,
   "id": "2c02fc6c",
   "metadata": {},
   "outputs": [
    {
     "data": {
      "text/plain": [
       "246.1969079170914"
      ]
     },
     "execution_count": 111,
     "metadata": {},
     "output_type": "execute_result"
    }
   ],
   "source": [
    "df_keymer['Engine Correlation'].var()"
   ]
  },
  {
   "cell_type": "code",
   "execution_count": 116,
   "id": "883156f6",
   "metadata": {},
   "outputs": [
    {
     "data": {
      "text/plain": [
       "15.690663080860904"
      ]
     },
     "execution_count": 116,
     "metadata": {},
     "output_type": "execute_result"
    }
   ],
   "source": [
    "df_keymer['Engine Correlation'].std()"
   ]
  },
  {
   "cell_type": "code",
   "execution_count": 112,
   "id": "92703659",
   "metadata": {},
   "outputs": [
    {
     "data": {
      "text/plain": [
       "Ttest_indResult(statistic=-1.8919444262255198, pvalue=0.059097494436967046)"
      ]
     },
     "execution_count": 112,
     "metadata": {},
     "output_type": "execute_result"
    }
   ],
   "source": [
    "ttest_ind(df_hans['Engine Correlation'], df_magnus['Engine Correlation'])"
   ]
  },
  {
   "cell_type": "markdown",
   "id": "531b2239",
   "metadata": {},
   "source": [
    "The answer is Magnus -\n",
    "It's not a surprise nor mean he is a cheater, he is the best chess player in the world."
   ]
  },
  {
   "cell_type": "code",
   "execution_count": 118,
   "id": "3e6d527d",
   "metadata": {},
   "outputs": [
    {
     "data": {
      "text/plain": [
       "count    389.000000\n",
       "mean      65.339332\n",
       "std       16.338810\n",
       "min       17.000000\n",
       "25%       54.000000\n",
       "50%       66.000000\n",
       "75%       75.000000\n",
       "max      100.000000\n",
       "Name: Engine Correlation, dtype: float64"
      ]
     },
     "execution_count": 118,
     "metadata": {},
     "output_type": "execute_result"
    }
   ],
   "source": [
    "df_hans['Engine Correlation'].describe()"
   ]
  },
  {
   "cell_type": "code",
   "execution_count": 117,
   "id": "77fb6fdc",
   "metadata": {},
   "outputs": [
    {
     "data": {
      "text/plain": [
       "count     95.000000\n",
       "mean      68.747368\n",
       "std       12.980319\n",
       "min       41.000000\n",
       "25%       58.000000\n",
       "50%       69.000000\n",
       "75%       78.000000\n",
       "max      100.000000\n",
       "Name: Engine Correlation, dtype: float64"
      ]
     },
     "execution_count": 117,
     "metadata": {},
     "output_type": "execute_result"
    }
   ],
   "source": [
    "df_magnus['Engine Correlation'].describe()"
   ]
  },
  {
   "cell_type": "code",
   "execution_count": 119,
   "id": "906e2a8e",
   "metadata": {},
   "outputs": [
    {
     "data": {
      "text/plain": [
       "count    109.000000\n",
       "mean      62.229358\n",
       "std       15.690663\n",
       "min       24.000000\n",
       "25%       51.000000\n",
       "50%       62.000000\n",
       "75%       70.000000\n",
       "max      100.000000\n",
       "Name: Engine Correlation, dtype: float64"
      ]
     },
     "execution_count": 119,
     "metadata": {},
     "output_type": "execute_result"
    }
   ],
   "source": [
    "df_keymer['Engine Correlation'].describe()"
   ]
  },
  {
   "cell_type": "code",
   "execution_count": null,
   "id": "2380d9b5",
   "metadata": {},
   "outputs": [],
   "source": []
  },
  {
   "cell_type": "code",
   "execution_count": null,
   "id": "e1a9ec52",
   "metadata": {},
   "outputs": [],
   "source": []
  },
  {
   "cell_type": "code",
   "execution_count": 53,
   "id": "94cd5d40",
   "metadata": {},
   "outputs": [
    {
     "data": {
      "text/plain": [
       "2413.8"
      ]
     },
     "execution_count": 53,
     "metadata": {},
     "output_type": "execute_result"
    }
   ],
   "source": [
    "df_hans[df_hans['Engine Correlation'] == 100]['Opponent Rating'].mean()"
   ]
  },
  {
   "cell_type": "code",
   "execution_count": 55,
   "id": "8ebf5ec2",
   "metadata": {},
   "outputs": [
    {
     "data": {
      "text/plain": [
       "2463.8766066838048"
      ]
     },
     "execution_count": 55,
     "metadata": {},
     "output_type": "execute_result"
    }
   ],
   "source": [
    "df_hans['Opponent Rating'].mean()"
   ]
  },
  {
   "cell_type": "code",
   "execution_count": 56,
   "id": "854c6e15",
   "metadata": {},
   "outputs": [
    {
     "data": {
      "text/plain": [
       "2711.705263157895"
      ]
     },
     "execution_count": 56,
     "metadata": {},
     "output_type": "execute_result"
    }
   ],
   "source": [
    "df_magnus['Opponent Rating'].mean()"
   ]
  },
  {
   "cell_type": "code",
   "execution_count": 57,
   "id": "3adb9c1a",
   "metadata": {},
   "outputs": [
    {
     "data": {
      "text/plain": [
       "2736.0"
      ]
     },
     "execution_count": 57,
     "metadata": {},
     "output_type": "execute_result"
    }
   ],
   "source": [
    "df_magnus[df_magnus['Engine Correlation'] == 100]['Opponent Rating'].mean()"
   ]
  },
  {
   "cell_type": "code",
   "execution_count": 58,
   "id": "92dce0c5",
   "metadata": {},
   "outputs": [
    {
     "data": {
      "text/plain": [
       "2618.0"
      ]
     },
     "execution_count": 58,
     "metadata": {},
     "output_type": "execute_result"
    }
   ],
   "source": [
    "df_keymer[df_keymer['Engine Correlation'] == 100]['Opponent Rating'].mean()"
   ]
  },
  {
   "cell_type": "code",
   "execution_count": 59,
   "id": "84aba9ab",
   "metadata": {},
   "outputs": [
    {
     "data": {
      "text/plain": [
       "2624.3119266055046"
      ]
     },
     "execution_count": 59,
     "metadata": {},
     "output_type": "execute_result"
    }
   ],
   "source": [
    "df_keymer['Opponent Rating'].mean()"
   ]
  },
  {
   "cell_type": "code",
   "execution_count": null,
   "id": "0adb5cea",
   "metadata": {},
   "outputs": [],
   "source": []
  }
 ],
 "metadata": {
  "kernelspec": {
   "display_name": "Python [conda env:data-science]",
   "language": "python",
   "name": "conda-env-data-science-py"
  },
  "language_info": {
   "codemirror_mode": {
    "name": "ipython",
    "version": 3
   },
   "file_extension": ".py",
   "mimetype": "text/x-python",
   "name": "python",
   "nbconvert_exporter": "python",
   "pygments_lexer": "ipython3",
   "version": "3.8.5"
  }
 },
 "nbformat": 4,
 "nbformat_minor": 5
}
