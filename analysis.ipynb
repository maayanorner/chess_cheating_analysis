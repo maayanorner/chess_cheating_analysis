{
 "cells": [
  {
   "cell_type": "markdown",
   "id": "c8ac5025",
   "metadata": {},
   "source": [
    "# How to (not) catch a cheater "
   ]
  },
  {
   "cell_type": "markdown",
   "id": "16b910f7",
   "metadata": {},
   "source": [
    "Statistics are dangerous. Moreover, statistics are dangerous when treated as truths, by people who don't understand basic concepts. I will keep it simple to prevent untrue confessions of the data, and more importantly, keep the professional rumbling out of the way - everyone should understand this simple analysis.\n",
    "\n",
    "I believe that one should be cautious when accusing another person of something, so even though it's a little scary to get in, I have to present my point of view - it's my obligation as a human being that has the tools to do so."
   ]
  },
  {
   "cell_type": "markdown",
   "id": "5547fcfa",
   "metadata": {},
   "source": [
    "## Claim 1:\n",
    "### Hans Niemann plays \"100% correlated engine moves\".\n",
    "While \"100% correlated engine moves\" is not clearly defined (by accusers), to my understanding, the same check was applied to two other players, Magnus Carlsen (world champion), and Vincent Keymer.\n",
    "Simply counting how many games each player played is a bad methodology, as the datasets vary in size. We will instead define a normalized form of this concept, 100% per 50 games."
   ]
  },
  {
   "cell_type": "code",
   "execution_count": 79,
   "id": "5e7464b2",
   "metadata": {},
   "outputs": [],
   "source": [
    "import pandas as pd"
   ]
  },
  {
   "cell_type": "code",
   "execution_count": 80,
   "id": "739c3ada",
   "metadata": {},
   "outputs": [],
   "source": [
    "def fix_dataset(df):\n",
    "    df = df[pd.to_numeric(df['Opponent Rating'], errors='coerce').notnull()]\n",
    "    df = df[pd.to_numeric(df['Engine Correlation'], errors='coerce').notnull()]\n",
    "    df['Opponent Rating'] = pd.to_numeric(df['Opponent Rating'])\n",
    "    df['Engine Correlation'] = pd.to_numeric(df['Engine Correlation'])\n",
    "    \n",
    "    return df"
   ]
  },
  {
   "cell_type": "code",
   "execution_count": 81,
   "id": "c7f6f258",
   "metadata": {},
   "outputs": [],
   "source": [
    "df_hans = fix_dataset(pd.read_csv('dataset_hans.csv'))"
   ]
  },
  {
   "cell_type": "code",
   "execution_count": 82,
   "id": "57eee36d",
   "metadata": {},
   "outputs": [],
   "source": [
    "df_keymer = fix_dataset(pd.read_csv('dataset_keymer.csv'))"
   ]
  },
  {
   "cell_type": "code",
   "execution_count": 83,
   "id": "54a431b6",
   "metadata": {},
   "outputs": [],
   "source": [
    "df_magnus = fix_dataset(pd.read_csv('dataset_magnus.csv'))"
   ]
  },
  {
   "cell_type": "code",
   "execution_count": 84,
   "id": "0abc6a18",
   "metadata": {},
   "outputs": [
    {
     "data": {
      "text/plain": [
       "(389, 109, 95)"
      ]
     },
     "execution_count": 84,
     "metadata": {},
     "output_type": "execute_result"
    }
   ],
   "source": [
    "len(df_hans), len(df_keymer), len(df_magnus)"
   ]
  },
  {
   "cell_type": "code",
   "execution_count": 85,
   "id": "bfe31565",
   "metadata": {},
   "outputs": [
    {
     "data": {
      "text/plain": [
       "1.2853470437017993"
      ]
     },
     "execution_count": 85,
     "metadata": {},
     "output_type": "execute_result"
    }
   ],
   "source": [
    "len(df_hans[df_hans['Engine Correlation'] == 100])*(50/len(df_hans))"
   ]
  },
  {
   "cell_type": "code",
   "execution_count": 86,
   "id": "7f0a88ba",
   "metadata": {},
   "outputs": [
    {
     "data": {
      "text/plain": [
       "0.9174311926605505"
      ]
     },
     "execution_count": 86,
     "metadata": {},
     "output_type": "execute_result"
    }
   ],
   "source": [
    "len(df_keymer[df_keymer['Engine Correlation'] == 100])*(50/len(df_keymer))"
   ]
  },
  {
   "cell_type": "code",
   "execution_count": 87,
   "id": "a01b8e98",
   "metadata": {},
   "outputs": [
    {
     "data": {
      "text/plain": [
       "1.0526315789473684"
      ]
     },
     "execution_count": 87,
     "metadata": {},
     "output_type": "execute_result"
    }
   ],
   "source": [
    "len(df_magnus[df_magnus['Engine Correlation'] == 100])*(50/len(df_magnus))"
   ]
  },
  {
   "cell_type": "markdown",
   "id": "5d4f4136",
   "metadata": {},
   "source": [
    "The results show that Hans plays ~1.3 games per 50 which are \"100% games\", while Keymer and Magnus play such games a little less often, ~0.92 and ~1.05 respectively.\n",
    "\n",
    "Ideally, we would perform a statistical test to see how significant the difference is between ~1.3 games per 50 to the expected value, however, we don't know the expected value since the dataset is rather small.\n",
    "The question of whether it's significant is left as an exercise to the reader (hint if Magnus would play 1 more 100% game, what would be his \"100% games\" per 50 rate?"
   ]
  },
  {
   "cell_type": "markdown",
   "id": "3e017da9",
   "metadata": {},
   "source": [
    "## But who has a higher engine correlation?"
   ]
  },
  {
   "cell_type": "code",
   "execution_count": 90,
   "id": "a6e8170d",
   "metadata": {},
   "outputs": [],
   "source": [
    "from scipy.stats import ttest_ind"
   ]
  },
  {
   "cell_type": "code",
   "execution_count": 91,
   "id": "53d5d0fd",
   "metadata": {},
   "outputs": [
    {
     "data": {
      "text/plain": [
       "68.74736842105263"
      ]
     },
     "execution_count": 91,
     "metadata": {},
     "output_type": "execute_result"
    }
   ],
   "source": [
    "df_magnus['Engine Correlation'].mean()"
   ]
  },
  {
   "cell_type": "code",
   "execution_count": 92,
   "id": "d236f9f1",
   "metadata": {},
   "outputs": [
    {
     "data": {
      "text/plain": [
       "65.33933161953728"
      ]
     },
     "execution_count": 92,
     "metadata": {},
     "output_type": "execute_result"
    }
   ],
   "source": [
    "df_hans['Engine Correlation'].mean()"
   ]
  },
  {
   "cell_type": "code",
   "execution_count": 93,
   "id": "ed6a6df7",
   "metadata": {},
   "outputs": [
    {
     "data": {
      "text/plain": [
       "62.22935779816514"
      ]
     },
     "execution_count": 93,
     "metadata": {},
     "output_type": "execute_result"
    }
   ],
   "source": [
    "df_keymer['Engine Correlation'].mean()"
   ]
  },
  {
   "cell_type": "code",
   "execution_count": 94,
   "id": "ee196734",
   "metadata": {},
   "outputs": [
    {
     "data": {
      "text/plain": [
       "Ttest_indResult(statistic=-1.8919444262255198, pvalue=0.059097494436967046)"
      ]
     },
     "execution_count": 94,
     "metadata": {},
     "output_type": "execute_result"
    }
   ],
   "source": [
    "ttest_ind(df_hans['Engine Correlation'], df_magnus['Engine Correlation'])"
   ]
  },
  {
   "cell_type": "markdown",
   "id": "baba7077",
   "metadata": {},
   "source": [
    "The answer is Magnus -\n",
    "It's not a surprise nor mean he is a cheater, he is the best chess player in the world."
   ]
  },
  {
   "cell_type": "code",
   "execution_count": null,
   "id": "e79cb397",
   "metadata": {},
   "outputs": [],
   "source": []
  },
  {
   "cell_type": "code",
   "execution_count": null,
   "id": "30059070",
   "metadata": {},
   "outputs": [],
   "source": []
  },
  {
   "cell_type": "code",
   "execution_count": null,
   "id": "5396589d",
   "metadata": {},
   "outputs": [],
   "source": []
  },
  {
   "cell_type": "code",
   "execution_count": null,
   "id": "4183c8af",
   "metadata": {},
   "outputs": [],
   "source": []
  },
  {
   "cell_type": "code",
   "execution_count": 53,
   "id": "81a0a10d",
   "metadata": {},
   "outputs": [
    {
     "data": {
      "text/plain": [
       "2413.8"
      ]
     },
     "execution_count": 53,
     "metadata": {},
     "output_type": "execute_result"
    }
   ],
   "source": [
    "df_hans[df_hans['Engine Correlation'] == 100]['Opponent Rating'].mean()"
   ]
  },
  {
   "cell_type": "code",
   "execution_count": 55,
   "id": "d706ab70",
   "metadata": {},
   "outputs": [
    {
     "data": {
      "text/plain": [
       "2463.8766066838048"
      ]
     },
     "execution_count": 55,
     "metadata": {},
     "output_type": "execute_result"
    }
   ],
   "source": [
    "df_hans['Opponent Rating'].mean()"
   ]
  },
  {
   "cell_type": "code",
   "execution_count": 56,
   "id": "7e8569e9",
   "metadata": {},
   "outputs": [
    {
     "data": {
      "text/plain": [
       "2711.705263157895"
      ]
     },
     "execution_count": 56,
     "metadata": {},
     "output_type": "execute_result"
    }
   ],
   "source": [
    "df_magnus['Opponent Rating'].mean()"
   ]
  },
  {
   "cell_type": "code",
   "execution_count": 57,
   "id": "c1f94b91",
   "metadata": {},
   "outputs": [
    {
     "data": {
      "text/plain": [
       "2736.0"
      ]
     },
     "execution_count": 57,
     "metadata": {},
     "output_type": "execute_result"
    }
   ],
   "source": [
    "df_magnus[df_magnus['Engine Correlation'] == 100]['Opponent Rating'].mean()"
   ]
  },
  {
   "cell_type": "code",
   "execution_count": 58,
   "id": "a6016b7f",
   "metadata": {},
   "outputs": [
    {
     "data": {
      "text/plain": [
       "2618.0"
      ]
     },
     "execution_count": 58,
     "metadata": {},
     "output_type": "execute_result"
    }
   ],
   "source": [
    "df_keymer[df_keymer['Engine Correlation'] == 100]['Opponent Rating'].mean()"
   ]
  },
  {
   "cell_type": "code",
   "execution_count": 59,
   "id": "8d1abf77",
   "metadata": {},
   "outputs": [
    {
     "data": {
      "text/plain": [
       "2624.3119266055046"
      ]
     },
     "execution_count": 59,
     "metadata": {},
     "output_type": "execute_result"
    }
   ],
   "source": [
    "df_keymer['Opponent Rating'].mean()"
   ]
  },
  {
   "cell_type": "code",
   "execution_count": null,
   "id": "e779be60",
   "metadata": {},
   "outputs": [],
   "source": []
  }
 ],
 "metadata": {
  "kernelspec": {
   "display_name": "Python [conda env:data-science]",
   "language": "python",
   "name": "conda-env-data-science-py"
  },
  "language_info": {
   "codemirror_mode": {
    "name": "ipython",
    "version": 3
   },
   "file_extension": ".py",
   "mimetype": "text/x-python",
   "name": "python",
   "nbconvert_exporter": "python",
   "pygments_lexer": "ipython3",
   "version": "3.8.5"
  }
 },
 "nbformat": 4,
 "nbformat_minor": 5
}
